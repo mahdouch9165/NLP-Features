{
 "cells": [
  {
   "cell_type": "code",
   "execution_count": null,
   "metadata": {},
   "outputs": [],
   "source": [
    "!pip install librosa soundfile"
   ]
  },
  {
   "cell_type": "code",
   "execution_count": 5,
   "metadata": {},
   "outputs": [
    {
     "name": "stdout",
     "output_type": "stream",
     "text": [
      "Audio sample saved as 'audio_sample_0.wav'\n"
     ]
    }
   ],
   "source": [
    "import soundfile as sf\n",
    "import datasets\n",
    "\n",
    "# Load the dataset\n",
    "sample_dataset = (datasets\n",
    "                  .load_dataset(\"amaai-lab/DisfluencySpeech\", \"\", split=\"train[:5]\", trust_remote_code=True)\n",
    "                  .cast_column(\"audio\", datasets.Audio(16_000))\n",
    "                  .with_format(\"numpy\"))\n",
    "\n",
    "# Get the first audio sample\n",
    "audio_sample = sample_dataset[0]['audio']['array']\n",
    "sample_rate = sample_dataset[0]['audio']['sampling_rate']\n",
    "\n",
    "# Save the audio sample as a WAV file\n",
    "sf.write('audio_sample_0.wav', audio_sample, sample_rate)\n",
    "\n",
    "print(\"Audio sample saved as 'audio_sample_0.wav'\")"
   ]
  }
 ],
 "metadata": {
  "kernelspec": {
   "display_name": "myenv",
   "language": "python",
   "name": "python3"
  },
  "language_info": {
   "codemirror_mode": {
    "name": "ipython",
    "version": 3
   },
   "file_extension": ".py",
   "mimetype": "text/x-python",
   "name": "python",
   "nbconvert_exporter": "python",
   "pygments_lexer": "ipython3",
   "version": "3.9.13"
  }
 },
 "nbformat": 4,
 "nbformat_minor": 2
}
